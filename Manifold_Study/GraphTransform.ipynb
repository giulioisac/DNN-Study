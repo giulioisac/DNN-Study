{
 "cells": [
  {
   "cell_type": "code",
   "execution_count": 1,
   "metadata": {
    "collapsed": true
   },
   "outputs": [],
   "source": [
    "import numpy as np\n",
    "import matplotlib.pyplot as plt\n",
    "%matplotlib inline\n",
    "import warnings\n",
    "warnings.filterwarnings(\"ignore\")"
   ]
  },
  {
   "cell_type": "code",
   "execution_count": 4,
   "metadata": {},
   "outputs": [
    {
     "data": {
      "image/png": "[encoded data removed]",
      "text/plain": [
       "<matplotlib.figure.Figure at 0x7fe88353f668>"
      ]
     },
     "metadata": {},
     "output_type": "display_data"
    }
   ],
   "source": [
    "plt.figure(figsize=(7,7))\n",
    "plt.axis(\"off\");\n",
    "N = 10000\n",
    "d0 = 1.6*np.random.randn(N,2)\n",
    "d0[:,0]= d0[:,0] - 3\n",
    "plt.plot(d0[:,0],d0[:,1],'.b')\n",
    "d1 = 1.6*np.random.randn(N,2)+13.6\n",
    "plt.plot(d1[:,0],d1[:,1],'.r')\n",
    "Data1 = np.concatenate((d0,d1))"
   ]
  },
  {
   "cell_type": "code",
   "execution_count": 8,
   "metadata": {
    "collapsed": true
   },
   "outputs": [],
   "source": [
    "#compute distances:\n",
    "def distance(a,b):\n",
    "    return (a[0]-b[0])*(a[0]-b[0])+(a[1]-b[1])*(a[1]-b[1])\n",
    "#use distance matrix to compute the closest for each node\n",
    "def compute_closest(data,matrix,i,n):\n",
    "    #sorted matrix\n",
    "    closest=np.zeros(n)\n",
    "    a= np.sort(matrix[i])[1:]\n",
    "    for k in range(len(data)):\n",
    "        for j in range(n):\n",
    "            if (a[j]==matrix[i][k]):closest[j]=k\n",
    "    return closest"
   ]
  },
  {
   "cell_type": "code",
   "execution_count": 10,
   "metadata": {},
   "outputs": [
    {
     "name": "stdout",
     "output_type": "stream",
     "text": [
      "distance matrix computed\n"
     ]
    }
   ],
   "source": [
    "#compute matrix of distances for d0:\n",
    "dist_matrixd0=[]\n",
    "for i in range(len(d0)):\n",
    "    dist1=[]\n",
    "    dist_matrixd0.append(dist1)\n",
    "    for j in range(len(d0)):\n",
    "        dist1.append(distance(d0[i],d0[j]))\n",
    "print(\"distance matrix computed\")\n",
    "closest0=[]\n",
    "for i in range(len(d0)):\n",
    "    closest0.append(compute_closest(d0,dist_matrixd0,i,4))"
   ]
  },
  {
   "cell_type": "code",
   "execution_count": 11,
   "metadata": {},
   "outputs": [
    {
     "name": "stdout",
     "output_type": "stream",
     "text": [
      "distance matrix computed\n"
     ]
    }
   ],
   "source": [
    "#compute matrix of distances for d1:\n",
    "dist_matrixd1=[]\n",
    "for i in range(len(d1)):\n",
    "    dist1=[]\n",
    "    dist_matrixd1.append(dist1)\n",
    "    for j in range(len(d1)):\n",
    "        dist1.append(distance(d1[i],d1[j]))\n",
    "print(\"distance matrix computed\")\n",
    "closest1=[]\n",
    "for i in range(len(d1)):\n",
    "    closest1.append(compute_closest(d1,dist_matrixd1,i,4))"
   ]
  },
  {
   "cell_type": "code",
   "execution_count": 12,
   "metadata": {
    "collapsed": true
   },
   "outputs": [],
   "source": [
    "#build adjency matrix:\n",
    "A0=np.ndarray(shape=(len(d0),len(d0)))\n",
    "for i in range(len(d0)):\n",
    "    a=np.zeros(len(d0))\n",
    "    a[closest0[i].astype(int)]=1\n",
    "    A0[i]=a\n",
    "#build adjency matrix:\n",
    "A1=np.ndarray(shape=(len(d1),len(d1)))\n",
    "for i in range(len(d1)):\n",
    "    a=np.zeros(len(d1))\n",
    "    a[closest1[i].astype(int)]=1\n",
    "    A1[i]=a"
   ]
  },
  {
   "cell_type": "code",
   "execution_count": 13,
   "metadata": {
    "collapsed": true
   },
   "outputs": [],
   "source": [
    "#save files\n",
    "np.save(\"d0\",d0)\n",
    "np.save(\"d1\",d1)\n",
    "np.save(\"A0\",A0)\n",
    "np.save(\"A1\",A1)"
   ]
  },
  {
   "cell_type": "code",
   "execution_count": null,
   "metadata": {
    "collapsed": true
   },
   "outputs": [],
   "source": [
    "import networkx as nx\n",
    "import matplotlib.pyplot as plt\n",
    "G=nx.from_numpy_matrix(A)\n",
    "fig=plt.figure(figsize=(16,8))\n",
    "for i in range(len(d0)):\n",
    "    G.node[i]['pos']=d0[i]\n",
    "layout = dict((n, G.node[n][\"pos\"]) for n in G.nodes_iter())\n",
    "plt.subplot(1,2,1)\n",
    "nx.draw(G, width=1, pos=layout,node_size=1)\n",
    "#Transorm nodes\n",
    "#d1=np.ndarray(size=(len(d0),2))\n",
    "d1=d0**2\n",
    "for i in range(len(d0)):\n",
    "    G.node[i]['pos']=d1[i]\n",
    "layout = dict((n, G.node[n][\"pos\"]) for n in G.nodes_iter())\n",
    "plt.subplot(1,2,2)\n",
    "nx.draw(G, width=1, pos=layout,node_size=1)"
   ]
  }
 ],
 "metadata": {
  "kernelspec": {
   "display_name": "Tfkernel",
   "language": "python",
   "name": "tfkernel"
  },
  "language_info": {
   "codemirror_mode": {
    "name": "ipython",
    "version": 3
   },
   "file_extension": ".py",
   "mimetype": "text/x-python",
   "name": "python",
   "nbconvert_exporter": "python",
   "pygments_lexer": "ipython3",
   "version": "3.5.3"
  }
 },
 "nbformat": 4,
 "nbformat_minor": 2
}
